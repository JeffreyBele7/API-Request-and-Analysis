{
 "cells": [
  {
   "cell_type": "markdown",
   "id": "b964f619-e42e-4c77-88ae-ee76539dfae4",
   "metadata": {},
   "source": [
    "## Question 1"
   ]
  },
  {
   "cell_type": "markdown",
   "id": "2cb9e95e-83c8-419c-adfd-6b8c297c3fe9",
   "metadata": {},
   "source": [
    "# PS1 Jeffrey Bele"
   ]
  },
  {
   "cell_type": "markdown",
   "id": "d64f3ca6-77c9-49ba-8f1e-0267fdccb12f",
   "metadata": {},
   "source": [
    "### #1. What is the definition of the target population for this survey? (These are called:primary sampling units (PSUs))\n",
    "\n",
    "The target population for this survey is the United States population as a whole. The specific findings we're looking for include the eitire range of an individuals spending habbits, expenditure, and income.  The survey itself covers roughly 98% of that. U.S. citizens in prisons, active military, and in retirement homes are not included in the survey. The primary sampling units are geographic regions used to represent larger populations across the United States as a whole. "
   ]
  },
  {
   "cell_type": "markdown",
   "id": "7098b19c-fc0e-4f01-9b4a-2835fdc3b0ef",
   "metadata": {},
   "source": [
    "### #2. What is the purpose of the CEX survey?\n",
    "\n",
    "The primary purchase of the survey is to create a collection of data on U.S. spending habits, income, and demographics of individuals and families alike. These measures are benefitial for using tools such as the CPI. The survey is also one of few of its kind, making it very valuable resource for economic research and policy-making. "
   ]
  },
  {
   "cell_type": "markdown",
   "id": "afdb1b0d-13fc-407b-91f9-141a8b5d7e50",
   "metadata": {},
   "source": [
    "### #3. If taken in its entirety, what type of panel data will you have?\n",
    "\n",
    "The CE survey is compiled of two different types of survey information: interview, designed to collect data on a major and recurring expenditures such as rent and utilites over the four yearly quarters, and diary, designed to collect data on a smaller, more freuqent scale such as food and clothing. The cross sectionality of these survey types provides a much more comprehensive scale. These types of surveys can show the correlation between short term survey data and long term survey data such as grocery spending habits based on rent. "
   ]
  },
  {
   "cell_type": "markdown",
   "id": "75345177-3f40-45c7-a528-b513db3d6393",
   "metadata": {},
   "source": [
    "# Question 2 "
   ]
  },
  {
   "cell_type": "markdown",
   "id": "fe6b2d4d-f897-4526-92ae-304693057abd",
   "metadata": {},
   "source": [
    "To practice accessing government APIs, we will taste from macro data in this question\n",
    "(although the course is about microeconometrics). The St. Louis branch of the US Federal\n",
    "Reserve Bank maintains a big collection of APIs that contains macro level data. Mostly,\n",
    "national accounts (GDP = C + G + I + Im − Ex, remember?). This collection of APIs is\n",
    "called FRED."
   ]
  },
  {
   "cell_type": "markdown",
   "id": "22bf2740-c59c-45f2-9508-0f935262c08f",
   "metadata": {},
   "source": [
    "### #1. Obtain an API key for the FRED data set. Go to https://fred.stlouisfed.org/docs/api/api_key.html and click on the Request or view your API keys link. Youwill create an account and request an API key.\n",
    "\n",
    "#### API key: 378ddd74cd7d33490db0ea24fb73a985"
   ]
  },
  {
   "cell_type": "markdown",
   "id": "cf640acf-6648-4ec2-895e-e2c07d8e7fb8",
   "metadata": {},
   "source": [
    "### #2. The API key that you obtained (a string of 32 letters and numbers) can be used to retrieve data from their API in the following way: \n",
    "The base URL is: https://api.stlouisfed.org/ \n",
    "\n",
    "The endpoint you will use is: fred/series/observations \n",
    "\n",
    "###  The parameters you will pass (after a question mark symbol and separated with & symbol) are: \n",
    "\n",
    "?series_id=GDP&api_key=<putyourkeyhere>&observation_start=2021-01-01& file_type=json \n",
    "\n",
    "### For example, if your API key is abcdefghijklmnopqrstuvwxyz123456, you will make the following call: \n",
    "\n",
    "https://api.stlouisfed.org/fred/series/observations?series_id=GDP&api_key=abcdefghijklmnopqrstuvwxyz123456&observation_start=2021-01-01&file_type=json \n",
    "\n",
    "### Your code should show how the URL is created (suppress the key). Your notebook should show the response you get. "
   ]
  },
  {
   "cell_type": "code",
   "execution_count": 1,
   "id": "dde8362b-6a1a-4e56-be29-83d6319a38d6",
   "metadata": {},
   "outputs": [],
   "source": [
    "### #2. Codework \n",
    "\n",
    "# Import Required Libraries\n",
    "import requests\n",
    "import json\n",
    "\n",
    "#Function to build the URL\n",
    "def create_fred_api_url(series_id, api_key, observation_start, file_type=\"json\"):\n",
    "    base_url = \"https://api.stlouisfed.org/\"\n",
    "    endpoint = \"fred/series/observations\"\n",
    "    url = (\n",
    "        f\"{base_url}{endpoint}?\"\n",
    "        f\"series_id={series_id}&\"\n",
    "        f\"api_key=<suppressed>&\"  # Suppress key for display\n",
    "        f\"observation_start={observation_start}&\"\n",
    "        f\"file_type={file_type}\"\n",
    "    )\n",
    "#Return the actual URL for the request\n",
    "    actual_url = (\n",
    "        f\"{base_url}{endpoint}?\"\n",
    "        f\"series_id={series_id}&\"\n",
    "        f\"api_key={api_key}&\"\n",
    "        f\"observation_start={observation_start}&\"\n",
    "        f\"file_type={file_type}\"\n",
    "    )\n",
    "    print(\"URL with suppressed API key:\", url)\n",
    "    return actual_url\n"
   ]
  },
  {
   "cell_type": "code",
   "execution_count": 10,
   "id": "bd78cd64-58ff-4b3e-b666-63d35f33f665",
   "metadata": {},
   "outputs": [],
   "source": [
    "#Parameters\n",
    "api_key = \"378ddd74cd7d33490db0ea24fb73a985\" \n",
    "series_id = \"GDP\"\n",
    "observation_start = \"2021-01-01\""
   ]
  },
  {
   "cell_type": "code",
   "execution_count": 11,
   "id": "e8659a1e-7167-43b1-8fda-c58aff1085be",
   "metadata": {},
   "outputs": [
    {
     "name": "stdout",
     "output_type": "stream",
     "text": [
      "URL with suppressed API key: https://api.stlouisfed.org/fred/series/observations?series_id=GDP&api_key=<suppressed>&observation_start=2021-01-01&file_type=json\n"
     ]
    }
   ],
   "source": [
    "#Create the URL\n",
    "api_url = create_fred_api_url(series_id, api_key, observation_start)"
   ]
  },
  {
   "cell_type": "code",
   "execution_count": 12,
   "id": "3a7e9470-5081-4566-81c3-57f5c39ed482",
   "metadata": {},
   "outputs": [],
   "source": [
    "#Make the API request\n",
    "response = requests.get(api_url)"
   ]
  },
  {
   "cell_type": "code",
   "execution_count": 13,
   "id": "3663daae-25ab-43ee-b46c-7951eddc6b47",
   "metadata": {},
   "outputs": [
    {
     "name": "stdout",
     "output_type": "stream",
     "text": [
      "Response recieved successfully\n",
      "{\n",
      "    \"realtime_start\": \"2025-01-28\",\n",
      "    \"realtime_end\": \"2025-01-28\",\n",
      "    \"observation_start\": \"2021-01-01\",\n",
      "    \"observation_end\": \"9999-12-31\",\n",
      "    \"units\": \"lin\",\n",
      "    \"output_type\": 1,\n",
      "    \"file_type\": \"json\",\n",
      "    \"order_by\": \"observation_date\",\n",
      "    \"sort_order\": \"asc\",\n",
      "    \"count\": 15,\n",
      "    \"offset\": 0,\n",
      "    \"limit\": 100000,\n",
      "    \"observations\": [\n",
      "        {\n",
      "            \"realtime_start\": \"2025-01-28\",\n",
      "            \"realtime_end\": \"2025-01-28\",\n",
      "            \"date\": \"2021-01-01\",\n",
      "            \"value\": \"22656.793\"\n",
      "        },\n",
      "        {\n",
      "            \"realtime_start\": \"2025-01-28\",\n",
      "            \"realtime_end\": \"2025-01-28\",\n",
      "            \"date\": \"2021-04-01\",\n",
      "            \"value\": \"23368.861\"\n",
      "        },\n",
      "        {\n",
      "            \"realtime_start\": \"2025-01-28\",\n",
      "            \"realtime_end\": \"2025-01-28\",\n",
      "            \"date\": \"2021-07-01\",\n",
      "            \"value\": \"23921.991\"\n",
      "        },\n",
      "        {\n",
      "            \"realtime_start\": \"2025-01-28\",\n",
      "            \"realtime_end\": \"2025-01-28\",\n",
      "            \"date\": \"2021-10-01\",\n",
      "            \"value\": \"24777.038\"\n",
      "        },\n",
      "        {\n",
      "            \"realtime_start\": \"2025-01-28\",\n",
      "            \"realtime_end\": \"2025-01-28\",\n",
      "            \"date\": \"2022-01-01\",\n",
      "            \"value\": \"25215.491\"\n",
      "        },\n",
      "        {\n",
      "            \"realtime_start\": \"2025-01-28\",\n",
      "            \"realtime_end\": \"2025-01-28\",\n",
      "            \"date\": \"2022-04-01\",\n",
      "            \"value\": \"25805.791\"\n",
      "        },\n",
      "        {\n",
      "            \"realtime_start\": \"2025-01-28\",\n",
      "            \"realtime_end\": \"2025-01-28\",\n",
      "            \"date\": \"2022-07-01\",\n",
      "            \"value\": \"26272.011\"\n",
      "        },\n",
      "        {\n",
      "            \"realtime_start\": \"2025-01-28\",\n",
      "            \"realtime_end\": \"2025-01-28\",\n",
      "            \"date\": \"2022-10-01\",\n",
      "            \"value\": \"26734.277\"\n",
      "        },\n",
      "        {\n",
      "            \"realtime_start\": \"2025-01-28\",\n",
      "            \"realtime_end\": \"2025-01-28\",\n",
      "            \"date\": \"2023-01-01\",\n",
      "            \"value\": \"27164.359\"\n",
      "        },\n",
      "        {\n",
      "            \"realtime_start\": \"2025-01-28\",\n",
      "            \"realtime_end\": \"2025-01-28\",\n",
      "            \"date\": \"2023-04-01\",\n",
      "            \"value\": \"27453.815\"\n",
      "        },\n",
      "        {\n",
      "            \"realtime_start\": \"2025-01-28\",\n",
      "            \"realtime_end\": \"2025-01-28\",\n",
      "            \"date\": \"2023-07-01\",\n",
      "            \"value\": \"27967.697\"\n",
      "        },\n",
      "        {\n",
      "            \"realtime_start\": \"2025-01-28\",\n",
      "            \"realtime_end\": \"2025-01-28\",\n",
      "            \"date\": \"2023-10-01\",\n",
      "            \"value\": \"28296.967\"\n",
      "        },\n",
      "        {\n",
      "            \"realtime_start\": \"2025-01-28\",\n",
      "            \"realtime_end\": \"2025-01-28\",\n",
      "            \"date\": \"2024-01-01\",\n",
      "            \"value\": \"28624.069\"\n",
      "        },\n",
      "        {\n",
      "            \"realtime_start\": \"2025-01-28\",\n",
      "            \"realtime_end\": \"2025-01-28\",\n",
      "            \"date\": \"2024-04-01\",\n",
      "            \"value\": \"29016.714\"\n",
      "        },\n",
      "        {\n",
      "            \"realtime_start\": \"2025-01-28\",\n",
      "            \"realtime_end\": \"2025-01-28\",\n",
      "            \"date\": \"2024-07-01\",\n",
      "            \"value\": \"29374.914\"\n",
      "        }\n",
      "    ]\n",
      "}\n"
     ]
    }
   ],
   "source": [
    "#Check the response status\n",
    "if response.status_code == 200:\n",
    "    print(\"Response recieved successfully\")\n",
    "    data = response.json()\n",
    "    #Pretty print the response data\n",
    "    print(json.dumps(data, indent=4))\n",
    "else:\n",
    "    print(f\"Failed to fetch data. Status code: {respones.status_code}\")\n",
    "    print(response.text)"
   ]
  },
  {
   "cell_type": "markdown",
   "id": "4746f7de-51cc-4c4f-9c34-a8ee55261b19",
   "metadata": {},
   "source": [
    "### #3. Looking at your answer above, what is the US GDP in the first quarter of 2023?(units?)\n",
    "\n",
    "#### $27,164.359 (in Billions)\n",
    "\n",
    "##### Where the number was derived from: \n",
    "            \"realtime_start\": \"2025-01-28\",\n",
    "            \"realtime_end\": \"2025-01-28\",\n",
    "            \"date\": \"2023-01-01\",\n",
    "            \"value\": \"27164.359\"\n",
    "        },"
   ]
  }
 ],
 "metadata": {
  "kernelspec": {
   "display_name": "Python 3 (ipykernel)",
   "language": "python",
   "name": "python3"
  },
  "language_info": {
   "codemirror_mode": {
    "name": "ipython",
    "version": 3
   },
   "file_extension": ".py",
   "mimetype": "text/x-python",
   "name": "python",
   "nbconvert_exporter": "python",
   "pygments_lexer": "ipython3",
   "version": "3.12.7"
  }
 },
 "nbformat": 4,
 "nbformat_minor": 5
}
